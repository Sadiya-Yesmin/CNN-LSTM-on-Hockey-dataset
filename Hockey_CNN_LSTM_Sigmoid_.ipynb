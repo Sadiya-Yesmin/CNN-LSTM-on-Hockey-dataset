{
  "nbformat": 4,
  "nbformat_minor": 0,
  "metadata": {
    "colab": {
      "name": "Hockey CNN LSTM Sigmoid .ipynb",
      "provenance": [],
      "mount_file_id": "1dMRGeHtyYkiyqLvWDsptpTTlrTMl2Owr",
      "authorship_tag": "ABX9TyNe7Kqx/Wh6yTYQOvtDQvm9",
      "include_colab_link": true
    },
    "kernelspec": {
      "name": "python3",
      "display_name": "Python 3"
    },
    "language_info": {
      "name": "python"
    },
    "accelerator": "GPU"
  },
  "cells": [
    {
      "cell_type": "markdown",
      "metadata": {
        "id": "view-in-github",
        "colab_type": "text"
      },
      "source": [
        "<a href=\"https://colab.research.google.com/github/Sadiya-Yesmin/CNN-LSTM-on-Hockey-dataset/blob/main/Hockey_CNN_LSTM_Sigmoid_.ipynb\" target=\"_parent\"><img src=\"https://colab.research.google.com/assets/colab-badge.svg\" alt=\"Open In Colab\"/></a>"
      ]
    },
    {
      "cell_type": "code",
      "metadata": {
        "id": "FMVyQmboe_jH"
      },
      "source": [
        "import numpy as np\n",
        "#dataset_name = 'dataset.npy'\n",
        "data= np.load('/content/drive/MyDrive/NPY files/hockey/dataset.npy', allow_pickle=True)"
      ],
      "execution_count": null,
      "outputs": []
    },
    {
      "cell_type": "code",
      "metadata": {
        "id": "8VIzbOqCwOxO",
        "colab": {
          "base_uri": "https://localhost:8080/"
        },
        "outputId": "c854f298-b945-42e2-9fbc-d03fb5fe6602"
      },
      "source": [
        "len(data)"
      ],
      "execution_count": null,
      "outputs": [
        {
          "output_type": "execute_result",
          "data": {
            "text/plain": [
              "4005"
            ]
          },
          "metadata": {
            "tags": []
          },
          "execution_count": 5
        }
      ]
    },
    {
      "cell_type": "code",
      "metadata": {
        "id": "1FbSMCFBB0w9"
      },
      "source": [
        "train = data[:-400]\n",
        "test = data[-400:]"
      ],
      "execution_count": null,
      "outputs": []
    },
    {
      "cell_type": "code",
      "metadata": {
        "colab": {
          "base_uri": "https://localhost:8080/"
        },
        "id": "DsGVdddzB2K3",
        "outputId": "9db2024d-9542-4761-9a80-0bd7c0a3c51d"
      },
      "source": [
        "from tensorflow.keras.layers import LSTM, Bidirectional, Conv2D, Dense, Flatten, MaxPooling2D, TimeDistributed, Reshape, MaxPooling3D\n",
        "from tensorflow.keras.models import Sequential\n",
        "\n",
        "cnn = Sequential()\n",
        "cnn.add(Conv2D(64, (3, 3), activation='relu', input_shape=(10, 100, 100, 3), padding=\"same\"))\n",
        "cnn.add(Conv2D(64, (3, 3), activation='relu'))\n",
        "cnn.add(MaxPooling3D((1, 2,2)))\n",
        "cnn.add(Conv2D(64, (3, 3), activation='relu'))\n",
        "cnn.add(MaxPooling3D((1, 2,2)))\n",
        "cnn.add(Conv2D(64, (3, 3), activation='relu'))\n",
        "cnn.add(MaxPooling3D((1, 2,2)))\n",
        "#cnn.add(Flatten())\n",
        "cnn.add(Reshape((10, 6400)))\n",
        "\n",
        "#cnn.summary()\n",
        "\n",
        "lstm_fw = LSTM(units=32)\n",
        "lstm_bw = LSTM(units=32, go_backwards = True)\n",
        "model = Sequential()\n",
        "#model.add(TimeDistributed(cnn, input_shape=(1, 10, 10, 64)))\n",
        "model.add(Bidirectional(lstm_fw, backward_layer = lstm_bw))\n",
        "model.add(Dense(64, activation='relu'))\n",
        "model.add(Dense(32, activation='relu'))\n",
        "model.add(Dense(1, activation='sigmoid'))\n",
        "\n",
        "cnn.add(Bidirectional(lstm_fw, backward_layer = lstm_bw))\n",
        "cnn.add(Dense(64, activation='relu'))\n",
        "cnn.add(Dense(32, activation='relu'))\n",
        "cnn.add(Dense(2, activation='sigmoid'))\n",
        "\n",
        "cnn.summary()\n",
        "\n",
        "cnn.compile(loss='categorical_crossentropy',optimizer='SGD',metrics=['accuracy'])"
      ],
      "execution_count": null,
      "outputs": [
        {
          "output_type": "stream",
          "text": [
            "Model: \"sequential_1\"\n",
            "_________________________________________________________________\n",
            "Layer (type)                 Output Shape              Param #   \n",
            "=================================================================\n",
            "conv2d (Conv2D)              (None, 10, 100, 100, 64)  1792      \n",
            "_________________________________________________________________\n",
            "conv2d_1 (Conv2D)            (None, 10, 98, 98, 64)    36928     \n",
            "_________________________________________________________________\n",
            "max_pooling3d (MaxPooling3D) (None, 10, 49, 49, 64)    0         \n",
            "_________________________________________________________________\n",
            "conv2d_2 (Conv2D)            (None, 10, 47, 47, 64)    36928     \n",
            "_________________________________________________________________\n",
            "max_pooling3d_1 (MaxPooling3 (None, 10, 23, 23, 64)    0         \n",
            "_________________________________________________________________\n",
            "conv2d_3 (Conv2D)            (None, 10, 21, 21, 64)    36928     \n",
            "_________________________________________________________________\n",
            "max_pooling3d_2 (MaxPooling3 (None, 10, 10, 10, 64)    0         \n",
            "_________________________________________________________________\n",
            "reshape (Reshape)            (None, 10, 6400)          0         \n",
            "_________________________________________________________________\n",
            "bidirectional_1 (Bidirection (None, 64)                1646848   \n",
            "_________________________________________________________________\n",
            "dense_3 (Dense)              (None, 64)                4160      \n",
            "_________________________________________________________________\n",
            "dense_4 (Dense)              (None, 32)                2080      \n",
            "_________________________________________________________________\n",
            "dense_5 (Dense)              (None, 2)                 66        \n",
            "=================================================================\n",
            "Total params: 1,765,730\n",
            "Trainable params: 1,765,730\n",
            "Non-trainable params: 0\n",
            "_________________________________________________________________\n"
          ],
          "name": "stdout"
        }
      ]
    },
    {
      "cell_type": "code",
      "metadata": {
        "id": "9TksnZZ4Cft7"
      },
      "source": [
        "IMG_SIZE=100\n",
        "X = np.array([i[0] for i in train]).reshape(-1, 10, IMG_SIZE, IMG_SIZE, 3)\n",
        "Y = np.array([i[1] for i in train])\n",
        "\n",
        "x_valid = np.array([i[0] for i in test]).reshape(-1, 10, IMG_SIZE, IMG_SIZE, 3)\n",
        "y_valid = np.array([i[1] for i in test])"
      ],
      "execution_count": null,
      "outputs": []
    },
    {
      "cell_type": "code",
      "metadata": {
        "id": "dGJGCQwjCo-f"
      },
      "source": [
        "X = X.astype('float32')/255\n",
        "x_valid = x_valid.astype('float32')/255\n",
        "#Y = Y.astype('float32').reshape((-1, 1))\n",
        "#y_valid = y_valid.astype('float32').reshape((-1, 1))"
      ],
      "execution_count": null,
      "outputs": []
    },
    {
      "cell_type": "code",
      "metadata": {
        "colab": {
          "base_uri": "https://localhost:8080/"
        },
        "id": "TvZOlfomCtSn",
        "outputId": "5c4c70d9-519f-49d2-ff1a-5efc24d84190"
      },
      "source": [
        "\n",
        "print(Y.shape)\n",
        "print(y_valid.shape)\n",
        "print(X.shape)\n",
        "print(x_valid.shape)\n",
        "\n",
        "print(y_valid[7])"
      ],
      "execution_count": null,
      "outputs": [
        {
          "output_type": "stream",
          "text": [
            "(3605, 2)\n",
            "(400, 2)\n",
            "(3605, 10, 100, 100, 3)\n",
            "(400, 10, 100, 100, 3)\n",
            "[1 0]\n"
          ],
          "name": "stdout"
        }
      ]
    },
    {
      "cell_type": "code",
      "metadata": {
        "colab": {
          "base_uri": "https://localhost:8080/"
        },
        "id": "OA_VT6tzC0Sa",
        "outputId": "c2328c73-6969-4a90-aa36-5a8a06b06f06"
      },
      "source": [
        "x_try = X[:20]\n",
        "y_try = Y[:20]\n",
        "print(len(x_try), len(y_try))"
      ],
      "execution_count": null,
      "outputs": [
        {
          "output_type": "stream",
          "text": [
            "20 20\n"
          ],
          "name": "stdout"
        }
      ]
    },
    {
      "cell_type": "code",
      "metadata": {
        "colab": {
          "base_uri": "https://localhost:8080/"
        },
        "id": "7tOQouPoC4cj",
        "outputId": "96b7578c-5c8e-40c2-db7b-ec1f0239d287"
      },
      "source": [
        "cnn.fit(X,Y,epochs=50,validation_data=(x_valid,y_valid),batch_size=5, verbose=1)\n"
      ],
      "execution_count": null,
      "outputs": [
        {
          "output_type": "stream",
          "text": [
            "Epoch 1/50\n",
            "721/721 [==============================] - 88s 74ms/step - loss: 0.6885 - accuracy: 0.5291 - val_loss: 0.6903 - val_accuracy: 0.5050\n",
            "Epoch 2/50\n",
            "721/721 [==============================] - 52s 73ms/step - loss: 0.6673 - accuracy: 0.5935 - val_loss: 0.5917 - val_accuracy: 0.6775\n",
            "Epoch 3/50\n",
            "721/721 [==============================] - 52s 73ms/step - loss: 0.5867 - accuracy: 0.6843 - val_loss: 0.4655 - val_accuracy: 0.7825\n",
            "Epoch 4/50\n",
            "721/721 [==============================] - 52s 73ms/step - loss: 0.4784 - accuracy: 0.7634 - val_loss: 0.5378 - val_accuracy: 0.7025\n",
            "Epoch 5/50\n",
            "721/721 [==============================] - 52s 72ms/step - loss: 0.3950 - accuracy: 0.8163 - val_loss: 0.2613 - val_accuracy: 0.9000\n",
            "Epoch 6/50\n",
            "721/721 [==============================] - 52s 72ms/step - loss: 0.3072 - accuracy: 0.8613 - val_loss: 0.2275 - val_accuracy: 0.9175\n",
            "Epoch 7/50\n",
            "721/721 [==============================] - 52s 73ms/step - loss: 0.2346 - accuracy: 0.9065 - val_loss: 0.1980 - val_accuracy: 0.9225\n",
            "Epoch 8/50\n",
            "721/721 [==============================] - 52s 72ms/step - loss: 0.1707 - accuracy: 0.9279 - val_loss: 0.2536 - val_accuracy: 0.8925\n",
            "Epoch 9/50\n",
            "721/721 [==============================] - 52s 72ms/step - loss: 0.1570 - accuracy: 0.9323 - val_loss: 0.1493 - val_accuracy: 0.9350\n",
            "Epoch 10/50\n",
            "721/721 [==============================] - 52s 72ms/step - loss: 0.0834 - accuracy: 0.9751 - val_loss: 0.1626 - val_accuracy: 0.9325\n",
            "Epoch 11/50\n",
            "721/721 [==============================] - 53s 73ms/step - loss: 0.0804 - accuracy: 0.9705 - val_loss: 0.1035 - val_accuracy: 0.9625\n",
            "Epoch 12/50\n",
            "721/721 [==============================] - 53s 73ms/step - loss: 0.0589 - accuracy: 0.9796 - val_loss: 0.1057 - val_accuracy: 0.9525\n",
            "Epoch 13/50\n",
            "721/721 [==============================] - 53s 73ms/step - loss: 0.1213 - accuracy: 0.9328 - val_loss: 0.1918 - val_accuracy: 0.9275\n",
            "Epoch 14/50\n",
            "721/721 [==============================] - 52s 73ms/step - loss: 0.0494 - accuracy: 0.9857 - val_loss: 0.1144 - val_accuracy: 0.9525\n",
            "Epoch 15/50\n",
            "721/721 [==============================] - 52s 73ms/step - loss: 0.0245 - accuracy: 0.9931 - val_loss: 0.0697 - val_accuracy: 0.9725\n",
            "Epoch 16/50\n",
            "721/721 [==============================] - 52s 73ms/step - loss: 0.0082 - accuracy: 0.9958 - val_loss: 0.6624 - val_accuracy: 0.5700\n",
            "Epoch 17/50\n",
            "721/721 [==============================] - 52s 73ms/step - loss: 0.3232 - accuracy: 0.8107 - val_loss: 0.0851 - val_accuracy: 0.9750\n",
            "Epoch 18/50\n",
            "721/721 [==============================] - 52s 72ms/step - loss: 0.0052 - accuracy: 0.9988 - val_loss: 0.0749 - val_accuracy: 0.9700\n",
            "Epoch 19/50\n",
            "721/721 [==============================] - 52s 72ms/step - loss: 0.0025 - accuracy: 0.9998 - val_loss: 0.0657 - val_accuracy: 0.9775\n",
            "Epoch 20/50\n",
            "721/721 [==============================] - 52s 72ms/step - loss: 6.4721e-04 - accuracy: 1.0000 - val_loss: 0.0715 - val_accuracy: 0.9800\n",
            "Epoch 21/50\n",
            "721/721 [==============================] - 52s 73ms/step - loss: 3.5628e-04 - accuracy: 1.0000 - val_loss: 0.0714 - val_accuracy: 0.9800\n",
            "Epoch 22/50\n",
            "721/721 [==============================] - 52s 73ms/step - loss: 2.8942e-04 - accuracy: 1.0000 - val_loss: 0.0740 - val_accuracy: 0.9800\n",
            "Epoch 23/50\n",
            "721/721 [==============================] - 52s 73ms/step - loss: 2.0650e-04 - accuracy: 1.0000 - val_loss: 0.0759 - val_accuracy: 0.9800\n",
            "Epoch 24/50\n",
            "721/721 [==============================] - 52s 73ms/step - loss: 2.0327e-04 - accuracy: 1.0000 - val_loss: 0.0750 - val_accuracy: 0.9800\n",
            "Epoch 25/50\n",
            "721/721 [==============================] - 53s 73ms/step - loss: 1.5282e-04 - accuracy: 1.0000 - val_loss: 0.0757 - val_accuracy: 0.9800\n",
            "Epoch 26/50\n",
            "721/721 [==============================] - 52s 73ms/step - loss: 1.3662e-04 - accuracy: 1.0000 - val_loss: 0.0766 - val_accuracy: 0.9800\n",
            "Epoch 27/50\n",
            "721/721 [==============================] - 52s 73ms/step - loss: 1.1714e-04 - accuracy: 1.0000 - val_loss: 0.0778 - val_accuracy: 0.9800\n",
            "Epoch 28/50\n",
            "721/721 [==============================] - 52s 73ms/step - loss: 1.2028e-04 - accuracy: 1.0000 - val_loss: 0.0785 - val_accuracy: 0.9800\n",
            "Epoch 29/50\n",
            "721/721 [==============================] - 52s 73ms/step - loss: 1.0695e-04 - accuracy: 1.0000 - val_loss: 0.0792 - val_accuracy: 0.9800\n",
            "Epoch 30/50\n",
            "721/721 [==============================] - 52s 73ms/step - loss: 8.7665e-05 - accuracy: 1.0000 - val_loss: 0.0798 - val_accuracy: 0.9800\n",
            "Epoch 31/50\n",
            "721/721 [==============================] - 52s 73ms/step - loss: 8.9028e-05 - accuracy: 1.0000 - val_loss: 0.0807 - val_accuracy: 0.9800\n",
            "Epoch 32/50\n",
            "721/721 [==============================] - 52s 73ms/step - loss: 7.0560e-05 - accuracy: 1.0000 - val_loss: 0.0801 - val_accuracy: 0.9800\n",
            "Epoch 33/50\n",
            "721/721 [==============================] - 52s 73ms/step - loss: 6.7973e-05 - accuracy: 1.0000 - val_loss: 0.0815 - val_accuracy: 0.9800\n",
            "Epoch 34/50\n",
            "721/721 [==============================] - 52s 73ms/step - loss: 5.9835e-05 - accuracy: 1.0000 - val_loss: 0.0823 - val_accuracy: 0.9800\n",
            "Epoch 35/50\n",
            "721/721 [==============================] - 52s 73ms/step - loss: 6.0874e-05 - accuracy: 1.0000 - val_loss: 0.0826 - val_accuracy: 0.9800\n",
            "Epoch 36/50\n",
            "721/721 [==============================] - 53s 73ms/step - loss: 6.5886e-05 - accuracy: 1.0000 - val_loss: 0.0827 - val_accuracy: 0.9800\n",
            "Epoch 37/50\n",
            "721/721 [==============================] - 52s 73ms/step - loss: 5.4499e-05 - accuracy: 1.0000 - val_loss: 0.0838 - val_accuracy: 0.9800\n",
            "Epoch 38/50\n",
            "721/721 [==============================] - 52s 73ms/step - loss: 4.8546e-05 - accuracy: 1.0000 - val_loss: 0.0841 - val_accuracy: 0.9800\n",
            "Epoch 39/50\n",
            "721/721 [==============================] - 52s 73ms/step - loss: 4.7493e-05 - accuracy: 1.0000 - val_loss: 0.0843 - val_accuracy: 0.9800\n",
            "Epoch 40/50\n",
            "721/721 [==============================] - 52s 73ms/step - loss: 4.7189e-05 - accuracy: 1.0000 - val_loss: 0.0848 - val_accuracy: 0.9800\n",
            "Epoch 41/50\n",
            "721/721 [==============================] - 52s 73ms/step - loss: 4.2289e-05 - accuracy: 1.0000 - val_loss: 0.0851 - val_accuracy: 0.9800\n",
            "Epoch 42/50\n",
            "721/721 [==============================] - 52s 73ms/step - loss: 4.0294e-05 - accuracy: 1.0000 - val_loss: 0.0854 - val_accuracy: 0.9800\n",
            "Epoch 43/50\n",
            "721/721 [==============================] - 52s 73ms/step - loss: 3.7647e-05 - accuracy: 1.0000 - val_loss: 0.0859 - val_accuracy: 0.9800\n",
            "Epoch 44/50\n",
            "721/721 [==============================] - 52s 73ms/step - loss: 4.3063e-05 - accuracy: 1.0000 - val_loss: 0.0862 - val_accuracy: 0.9800\n",
            "Epoch 45/50\n",
            "721/721 [==============================] - 52s 73ms/step - loss: 3.9536e-05 - accuracy: 1.0000 - val_loss: 0.0867 - val_accuracy: 0.9800\n",
            "Epoch 46/50\n",
            "721/721 [==============================] - 52s 73ms/step - loss: 4.0845e-05 - accuracy: 1.0000 - val_loss: 0.0872 - val_accuracy: 0.9800\n",
            "Epoch 47/50\n",
            "721/721 [==============================] - 52s 73ms/step - loss: 3.3343e-05 - accuracy: 1.0000 - val_loss: 0.0878 - val_accuracy: 0.9800\n",
            "Epoch 48/50\n",
            "721/721 [==============================] - 52s 73ms/step - loss: 3.1438e-05 - accuracy: 1.0000 - val_loss: 0.0880 - val_accuracy: 0.9800\n",
            "Epoch 49/50\n",
            "721/721 [==============================] - 52s 73ms/step - loss: 3.2198e-05 - accuracy: 1.0000 - val_loss: 0.0880 - val_accuracy: 0.9800\n",
            "Epoch 50/50\n",
            "721/721 [==============================] - 52s 73ms/step - loss: 3.5400e-05 - accuracy: 1.0000 - val_loss: 0.0885 - val_accuracy: 0.9800\n"
          ],
          "name": "stdout"
        },
        {
          "output_type": "execute_result",
          "data": {
            "text/plain": [
              "<tensorflow.python.keras.callbacks.History at 0x7f2352276550>"
            ]
          },
          "metadata": {
            "tags": []
          },
          "execution_count": 14
        }
      ]
    },
    {
      "cell_type": "code",
      "metadata": {
        "id": "Q4Qf3BGeK392"
      },
      "source": [
        "cnn.save('/content/drive/MyDrive/NPY files/hockey/save/hockey cnn sigmoid.h5', overwrite=True, include_optimizer=True, save_format=None,\n",
        "    signatures=None, options=None, save_traces=True)\n",
        "#for weights \n",
        "cnn.save_weights('/content/drive/MyDrive/NPY files/hockey/save/hockey_weights cnn sigmoid.h5', overwrite=True)"
      ],
      "execution_count": null,
      "outputs": []
    },
    {
      "cell_type": "markdown",
      "metadata": {
        "id": "LcJyS29VTb3M"
      },
      "source": [
        "**movie dataset 50 evaluate**\n",
        "\n",
        "\n"
      ]
    },
    {
      "cell_type": "code",
      "metadata": {
        "id": "AYwaWRmURFsn"
      },
      "source": [
        "dataM= np.load('/content/drive/MyDrive/NPY files/movie/movieset50.npy', allow_pickle=True)"
      ],
      "execution_count": null,
      "outputs": []
    },
    {
      "cell_type": "code",
      "metadata": {
        "colab": {
          "base_uri": "https://localhost:8080/"
        },
        "id": "md2KHL9AhlIq",
        "outputId": "ec545fbc-acfc-4ea3-cd4a-b6cefbb121e6"
      },
      "source": [
        "len(dataM)"
      ],
      "execution_count": null,
      "outputs": [
        {
          "output_type": "execute_result",
          "data": {
            "text/plain": [
              "481"
            ]
          },
          "metadata": {
            "tags": []
          },
          "execution_count": 17
        }
      ]
    },
    {
      "cell_type": "code",
      "metadata": {
        "id": "6jSiVaQUhxQR"
      },
      "source": [
        "test = dataM[:]"
      ],
      "execution_count": null,
      "outputs": []
    },
    {
      "cell_type": "code",
      "metadata": {
        "colab": {
          "base_uri": "https://localhost:8080/"
        },
        "id": "Xko8xXWziSTW",
        "outputId": "997d376e-87f7-4f9a-8b3e-f69cf160f467"
      },
      "source": [
        "len(test)"
      ],
      "execution_count": null,
      "outputs": [
        {
          "output_type": "execute_result",
          "data": {
            "text/plain": [
              "481"
            ]
          },
          "metadata": {
            "tags": []
          },
          "execution_count": 20
        }
      ]
    },
    {
      "cell_type": "code",
      "metadata": {
        "id": "ovW3cSLTiWXN"
      },
      "source": [
        "x_valid = np.array([i[0] for i in test]).reshape(-1, 10, IMG_SIZE, IMG_SIZE, 3)\n",
        "y_valid = np.array([i[1] for i in test])"
      ],
      "execution_count": null,
      "outputs": []
    },
    {
      "cell_type": "code",
      "metadata": {
        "colab": {
          "base_uri": "https://localhost:8080/"
        },
        "id": "emb4RjkKiilm",
        "outputId": "e377ea47-d805-4330-ae29-c121951f3bf3"
      },
      "source": [
        "x_valid = x_valid.astype('float32')/255\n",
        "\n",
        "print(y_valid.shape)\n",
        "print(x_valid.shape)\n",
        "\n",
        "print(y_valid[0])"
      ],
      "execution_count": null,
      "outputs": [
        {
          "output_type": "stream",
          "text": [
            "(481, 2)\n",
            "(481, 10, 100, 100, 3)\n",
            "[0 1]\n"
          ],
          "name": "stdout"
        }
      ]
    },
    {
      "cell_type": "code",
      "metadata": {
        "colab": {
          "base_uri": "https://localhost:8080/"
        },
        "id": "MOyAs5fai5V0",
        "outputId": "2d440603-db89-4657-c836-97267f6580de"
      },
      "source": [
        "cnn.evaluate(x=x_valid, y=y_valid, batch_size=5, verbose=1)"
      ],
      "execution_count": null,
      "outputs": [
        {
          "output_type": "stream",
          "text": [
            "97/97 [==============================] - 3s 31ms/step - loss: 5.5912 - accuracy: 0.4553\n"
          ],
          "name": "stdout"
        },
        {
          "output_type": "execute_result",
          "data": {
            "text/plain": [
              "[5.591219902038574, 0.4553014636039734]"
            ]
          },
          "metadata": {
            "tags": []
          },
          "execution_count": 26
        }
      ]
    },
    {
      "cell_type": "markdown",
      "metadata": {
        "id": "1mClogctps7G"
      },
      "source": [
        "**hockey evaluate using movie datasets full**"
      ]
    },
    {
      "cell_type": "code",
      "metadata": {
        "colab": {
          "base_uri": "https://localhost:8080/"
        },
        "id": "6gxtDaX1rXK8",
        "outputId": "ba1a1361-457f-4069-a160-9cdec94f5514"
      },
      "source": [
        "import tensorflow as tf\n",
        "from keras.models import load_model\n",
        "cnn= load_model('/content/drive/MyDrive/NPY files/hockey/save/hockey cnn sigmoid.h5')\n",
        "cnn.summary()"
      ],
      "execution_count": null,
      "outputs": [
        {
          "output_type": "stream",
          "text": [
            "Model: \"sequential_1\"\n",
            "_________________________________________________________________\n",
            "Layer (type)                 Output Shape              Param #   \n",
            "=================================================================\n",
            "conv2d (Conv2D)              (None, 10, 100, 100, 64)  1792      \n",
            "_________________________________________________________________\n",
            "conv2d_1 (Conv2D)            (None, 10, 98, 98, 64)    36928     \n",
            "_________________________________________________________________\n",
            "max_pooling3d (MaxPooling3D) (None, 10, 49, 49, 64)    0         \n",
            "_________________________________________________________________\n",
            "conv2d_2 (Conv2D)            (None, 10, 47, 47, 64)    36928     \n",
            "_________________________________________________________________\n",
            "max_pooling3d_1 (MaxPooling3 (None, 10, 23, 23, 64)    0         \n",
            "_________________________________________________________________\n",
            "conv2d_3 (Conv2D)            (None, 10, 21, 21, 64)    36928     \n",
            "_________________________________________________________________\n",
            "max_pooling3d_2 (MaxPooling3 (None, 10, 10, 10, 64)    0         \n",
            "_________________________________________________________________\n",
            "reshape (Reshape)            (None, 10, 6400)          0         \n",
            "_________________________________________________________________\n",
            "bidirectional_1 (Bidirection (None, 64)                1646848   \n",
            "_________________________________________________________________\n",
            "dense_3 (Dense)              (None, 64)                4160      \n",
            "_________________________________________________________________\n",
            "dense_4 (Dense)              (None, 32)                2080      \n",
            "_________________________________________________________________\n",
            "dense_5 (Dense)              (None, 2)                 66        \n",
            "=================================================================\n",
            "Total params: 1,765,730\n",
            "Trainable params: 1,765,730\n",
            "Non-trainable params: 0\n",
            "_________________________________________________________________\n"
          ],
          "name": "stdout"
        }
      ]
    },
    {
      "cell_type": "code",
      "metadata": {
        "colab": {
          "base_uri": "https://localhost:8080/"
        },
        "id": "bQ8odCX3k5gg",
        "outputId": "5290bfdb-d251-447e-d676-341fa6500db3"
      },
      "source": [
        "import numpy as np\n",
        "\n",
        "check= np.load('/content/drive/MyDrive/NPY files/movie/movieset.npy', allow_pickle=True)\n",
        "len(check)"
      ],
      "execution_count": null,
      "outputs": [
        {
          "output_type": "execute_result",
          "data": {
            "text/plain": [
              "964"
            ]
          },
          "metadata": {
            "tags": []
          },
          "execution_count": 2
        }
      ]
    },
    {
      "cell_type": "code",
      "metadata": {
        "colab": {
          "base_uri": "https://localhost:8080/"
        },
        "id": "izeQ91rgqNNK",
        "outputId": "b85e4bac-6eff-4218-d601-c998aae4e5d8"
      },
      "source": [
        "test = check[:]\n",
        "len(check)"
      ],
      "execution_count": null,
      "outputs": [
        {
          "output_type": "execute_result",
          "data": {
            "text/plain": [
              "964"
            ]
          },
          "metadata": {
            "tags": []
          },
          "execution_count": 3
        }
      ]
    },
    {
      "cell_type": "code",
      "metadata": {
        "id": "HVXu3LIeqXXp"
      },
      "source": [
        "x_valid = np.array([i[0] for i in test]).reshape(-1, 10, 100, 100, 3)\n",
        "y_valid = np.array([i[1] for i in test])"
      ],
      "execution_count": null,
      "outputs": []
    },
    {
      "cell_type": "code",
      "metadata": {
        "id": "v_IPqOtrqbYS"
      },
      "source": [
        "x_valid = x_valid.astype('float32')/255\n"
      ],
      "execution_count": null,
      "outputs": []
    },
    {
      "cell_type": "code",
      "metadata": {
        "colab": {
          "base_uri": "https://localhost:8080/"
        },
        "id": "d2jAHg2UqgA7",
        "outputId": "64f27152-8bb4-490f-b6b8-a3fe2438d244"
      },
      "source": [
        "\n",
        "print(y_valid.shape)\n",
        "print(x_valid.shape)\n",
        "\n",
        "print(y_valid[4])"
      ],
      "execution_count": null,
      "outputs": [
        {
          "output_type": "stream",
          "text": [
            "(964, 2)\n",
            "(964, 10, 100, 100, 3)\n",
            "[0 1]\n"
          ],
          "name": "stdout"
        }
      ]
    },
    {
      "cell_type": "code",
      "metadata": {
        "colab": {
          "base_uri": "https://localhost:8080/"
        },
        "id": "GvYnLlIorS7a",
        "outputId": "eb9ece0a-7997-4c28-8bae-1584eed3a1fa"
      },
      "source": [
        "cnn.evaluate(x=x_valid, y=y_valid, batch_size=5, verbose=1)"
      ],
      "execution_count": null,
      "outputs": [
        {
          "output_type": "stream",
          "text": [
            "193/193 [==============================] - 39s 31ms/step - loss: 6.2783 - accuracy: 0.4295\n"
          ],
          "name": "stdout"
        },
        {
          "output_type": "execute_result",
          "data": {
            "text/plain": [
              "[6.278342247009277, 0.4294605851173401]"
            ]
          },
          "metadata": {
            "tags": []
          },
          "execution_count": 7
        }
      ]
    },
    {
      "cell_type": "markdown",
      "metadata": {
        "id": "2Tw9n_PmoxCz"
      },
      "source": [
        "**Raw dataset full(train) evaluate**"
      ]
    },
    {
      "cell_type": "code",
      "metadata": {
        "id": "nxMdetvvo2RW"
      },
      "source": [
        ""
      ],
      "execution_count": null,
      "outputs": []
    }
  ]
}