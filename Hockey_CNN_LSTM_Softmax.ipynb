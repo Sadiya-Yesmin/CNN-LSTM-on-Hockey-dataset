{
  "nbformat": 4,
  "nbformat_minor": 0,
  "metadata": {
    "colab": {
      "name": "Hockey CNN LSTM Softmax.ipynb",
      "provenance": [],
      "mount_file_id": "1TvuDdpfJ-1FCLvLme6ctv1JvnkTjGfwt",
      "authorship_tag": "ABX9TyOS2CQlkqo2pqAfLJzcFzqZ",
      "include_colab_link": true
    },
    "kernelspec": {
      "name": "python3",
      "display_name": "Python 3"
    },
    "language_info": {
      "name": "python"
    },
    "accelerator": "GPU"
  },
  "cells": [
    {
      "cell_type": "markdown",
      "metadata": {
        "id": "view-in-github",
        "colab_type": "text"
      },
      "source": [
        "<a href=\"https://colab.research.google.com/github/Sadiya-Yesmin/CNN-LSTM-on-Hockey-dataset/blob/main/Hockey_CNN_LSTM_Softmax.ipynb\" target=\"_parent\"><img src=\"https://colab.research.google.com/assets/colab-badge.svg\" alt=\"Open In Colab\"/></a>"
      ]
    },
    {
      "cell_type": "code",
      "metadata": {
        "id": "OcCG9jmqGz5q"
      },
      "source": [
        "import numpy as np\n",
        "data= np.load('/content/drive/MyDrive/NPY files/hockey/dataset.npy', allow_pickle=True)"
      ],
      "execution_count": null,
      "outputs": []
    },
    {
      "cell_type": "code",
      "metadata": {
        "colab": {
          "base_uri": "https://localhost:8080/"
        },
        "id": "NAnuvwlvHdKw",
        "outputId": "3d7420cd-88ce-4e54-ff8d-4e46ef060026"
      },
      "source": [
        "len(data)"
      ],
      "execution_count": null,
      "outputs": [
        {
          "output_type": "execute_result",
          "data": {
            "text/plain": [
              "4005"
            ]
          },
          "metadata": {
            "tags": []
          },
          "execution_count": 2
        }
      ]
    },
    {
      "cell_type": "code",
      "metadata": {
        "id": "MSkm6RExHd8b"
      },
      "source": [
        "train = data[:-400]\n",
        "test = data[-400:]"
      ],
      "execution_count": null,
      "outputs": []
    },
    {
      "cell_type": "code",
      "metadata": {
        "colab": {
          "base_uri": "https://localhost:8080/"
        },
        "id": "t_H7BeSKHgOE",
        "outputId": "d5081bc1-5656-461e-a40c-9f224ebf5b91"
      },
      "source": [
        "from tensorflow.keras.layers import LSTM, Bidirectional, Conv2D, Dense, Flatten, MaxPooling2D, TimeDistributed, Reshape, MaxPooling3D\n",
        "from tensorflow.keras.models import Sequential\n",
        "\n",
        "cnn = Sequential()\n",
        "cnn.add(Conv2D(64, (3, 3), activation='relu', input_shape=(10, 100, 100, 3), padding=\"same\"))\n",
        "cnn.add(Conv2D(64, (3, 3), activation='relu'))\n",
        "cnn.add(MaxPooling3D((1, 2,2)))\n",
        "cnn.add(Conv2D(64, (3, 3), activation='relu'))\n",
        "cnn.add(MaxPooling3D((1, 2,2)))\n",
        "cnn.add(Conv2D(64, (3, 3), activation='relu'))\n",
        "cnn.add(MaxPooling3D((1, 2,2)))\n",
        "#cnn.add(Flatten())\n",
        "cnn.add(Reshape((10, 6400)))\n",
        "\n",
        "#cnn.summary()\n",
        "\n",
        "lstm_fw = LSTM(units=32)\n",
        "lstm_bw = LSTM(units=32, go_backwards = True)\n",
        "model = Sequential()\n",
        "#model.add(TimeDistributed(cnn, input_shape=(1, 10, 10, 64)))\n",
        "model.add(Bidirectional(lstm_fw, backward_layer = lstm_bw))\n",
        "model.add(Dense(64, activation='relu'))\n",
        "model.add(Dense(32, activation='relu'))\n",
        "model.add(Dense(1, activation='sigmoid'))\n",
        "\n",
        "cnn.add(Bidirectional(lstm_fw, backward_layer = lstm_bw))\n",
        "cnn.add(Dense(64, activation='relu'))\n",
        "cnn.add(Dense(32, activation='relu'))\n",
        "cnn.add(Dense(2, activation='softmax'))\n",
        "\n",
        "cnn.summary()\n",
        "\n",
        "cnn.compile(loss='categorical_crossentropy',optimizer='SGD',metrics=['accuracy'])"
      ],
      "execution_count": null,
      "outputs": [
        {
          "output_type": "stream",
          "text": [
            "Model: \"sequential\"\n",
            "_________________________________________________________________\n",
            "Layer (type)                 Output Shape              Param #   \n",
            "=================================================================\n",
            "conv2d (Conv2D)              (None, 10, 100, 100, 64)  1792      \n",
            "_________________________________________________________________\n",
            "conv2d_1 (Conv2D)            (None, 10, 98, 98, 64)    36928     \n",
            "_________________________________________________________________\n",
            "max_pooling3d (MaxPooling3D) (None, 10, 49, 49, 64)    0         \n",
            "_________________________________________________________________\n",
            "conv2d_2 (Conv2D)            (None, 10, 47, 47, 64)    36928     \n",
            "_________________________________________________________________\n",
            "max_pooling3d_1 (MaxPooling3 (None, 10, 23, 23, 64)    0         \n",
            "_________________________________________________________________\n",
            "conv2d_3 (Conv2D)            (None, 10, 21, 21, 64)    36928     \n",
            "_________________________________________________________________\n",
            "max_pooling3d_2 (MaxPooling3 (None, 10, 10, 10, 64)    0         \n",
            "_________________________________________________________________\n",
            "reshape (Reshape)            (None, 10, 6400)          0         \n",
            "_________________________________________________________________\n",
            "bidirectional_1 (Bidirection (None, 64)                1646848   \n",
            "_________________________________________________________________\n",
            "dense_3 (Dense)              (None, 64)                4160      \n",
            "_________________________________________________________________\n",
            "dense_4 (Dense)              (None, 32)                2080      \n",
            "_________________________________________________________________\n",
            "dense_5 (Dense)              (None, 2)                 66        \n",
            "=================================================================\n",
            "Total params: 1,765,730\n",
            "Trainable params: 1,765,730\n",
            "Non-trainable params: 0\n",
            "_________________________________________________________________\n"
          ],
          "name": "stdout"
        }
      ]
    },
    {
      "cell_type": "code",
      "metadata": {
        "id": "O4pLr6g9HlxN"
      },
      "source": [
        "IMG_SIZE=100\n",
        "X = np.array([i[0] for i in train]).reshape(-1, 10, IMG_SIZE, IMG_SIZE, 3)\n",
        "Y = np.array([i[1] for i in train])\n",
        "\n",
        "x_valid = np.array([i[0] for i in test]).reshape(-1, 10, IMG_SIZE, IMG_SIZE, 3)\n",
        "y_valid = np.array([i[1] for i in test])"
      ],
      "execution_count": null,
      "outputs": []
    },
    {
      "cell_type": "code",
      "metadata": {
        "id": "lMeMFUHhHulg"
      },
      "source": [
        "X = X.astype('float32')/255\n",
        "x_valid = x_valid.astype('float32')/255\n",
        "#Y = Y.astype('float32').reshape((-1, 1))\n",
        "#y_valid = y_valid.astype('float32').reshape((-1, 1))"
      ],
      "execution_count": null,
      "outputs": []
    },
    {
      "cell_type": "code",
      "metadata": {
        "colab": {
          "base_uri": "https://localhost:8080/"
        },
        "id": "1Y8hLCWIHxq8",
        "outputId": "874e9f4c-c74b-4724-9eae-dfbfeb779be3"
      },
      "source": [
        "print(Y.shape)\n",
        "print(y_valid.shape)\n",
        "print(X.shape)\n",
        "print(x_valid.shape)\n",
        "\n",
        "print(y_valid[7])"
      ],
      "execution_count": null,
      "outputs": [
        {
          "output_type": "stream",
          "text": [
            "(3605, 2)\n",
            "(400, 2)\n",
            "(3605, 10, 100, 100, 3)\n",
            "(400, 10, 100, 100, 3)\n",
            "[1 0]\n"
          ],
          "name": "stdout"
        }
      ]
    },
    {
      "cell_type": "code",
      "metadata": {
        "colab": {
          "base_uri": "https://localhost:8080/"
        },
        "id": "nebmia6qH0Wt",
        "outputId": "8ccbe2a4-6527-45da-e569-47eb52b6ab10"
      },
      "source": [
        "x_try = X[:20]\n",
        "y_try = Y[:20]\n",
        "print(len(x_try), len(y_try))"
      ],
      "execution_count": null,
      "outputs": [
        {
          "output_type": "stream",
          "text": [
            "20 20\n"
          ],
          "name": "stdout"
        }
      ]
    },
    {
      "cell_type": "code",
      "metadata": {
        "colab": {
          "base_uri": "https://localhost:8080/"
        },
        "id": "M8P_718BH4D4",
        "outputId": "5faa3da9-24de-40c7-9299-f93fb83e7b4e"
      },
      "source": [
        "cnn.fit(X,Y,epochs=50,validation_data=(x_valid,y_valid),batch_size=5, verbose=1)"
      ],
      "execution_count": null,
      "outputs": [
        {
          "output_type": "stream",
          "text": [
            "Epoch 1/50\n",
            "721/721 [==============================] - 87s 72ms/step - loss: 0.6921 - accuracy: 0.5171 - val_loss: 0.6721 - val_accuracy: 0.6225\n",
            "Epoch 2/50\n",
            "721/721 [==============================] - 52s 72ms/step - loss: 0.6791 - accuracy: 0.5757 - val_loss: 0.6559 - val_accuracy: 0.6050\n",
            "Epoch 3/50\n",
            "721/721 [==============================] - 52s 72ms/step - loss: 0.6564 - accuracy: 0.6146 - val_loss: 0.5960 - val_accuracy: 0.6800\n",
            "Epoch 4/50\n",
            "721/721 [==============================] - 52s 72ms/step - loss: 0.5771 - accuracy: 0.6954 - val_loss: 0.5016 - val_accuracy: 0.7675\n",
            "Epoch 5/50\n",
            "721/721 [==============================] - 52s 72ms/step - loss: 0.4863 - accuracy: 0.7597 - val_loss: 0.3953 - val_accuracy: 0.8525\n",
            "Epoch 6/50\n",
            "721/721 [==============================] - 52s 72ms/step - loss: 0.4146 - accuracy: 0.8037 - val_loss: 0.3381 - val_accuracy: 0.8650\n",
            "Epoch 7/50\n",
            "721/721 [==============================] - 52s 72ms/step - loss: 0.3413 - accuracy: 0.8435 - val_loss: 0.3177 - val_accuracy: 0.8700\n",
            "Epoch 8/50\n",
            "721/721 [==============================] - 52s 72ms/step - loss: 0.2539 - accuracy: 0.8990 - val_loss: 0.1855 - val_accuracy: 0.9250\n",
            "Epoch 9/50\n",
            "721/721 [==============================] - 52s 72ms/step - loss: 0.1618 - accuracy: 0.9336 - val_loss: 0.1644 - val_accuracy: 0.9350\n",
            "Epoch 10/50\n",
            "721/721 [==============================] - 52s 72ms/step - loss: 0.1263 - accuracy: 0.9480 - val_loss: 0.1504 - val_accuracy: 0.9375\n",
            "Epoch 11/50\n",
            "721/721 [==============================] - 52s 72ms/step - loss: 0.0853 - accuracy: 0.9708 - val_loss: 0.1772 - val_accuracy: 0.9300\n",
            "Epoch 12/50\n",
            "721/721 [==============================] - 52s 72ms/step - loss: 0.0993 - accuracy: 0.9617 - val_loss: 0.0744 - val_accuracy: 0.9650\n",
            "Epoch 13/50\n",
            "721/721 [==============================] - 52s 72ms/step - loss: 0.0452 - accuracy: 0.9820 - val_loss: 0.1232 - val_accuracy: 0.9575\n",
            "Epoch 14/50\n",
            "721/721 [==============================] - 52s 72ms/step - loss: 0.0450 - accuracy: 0.9864 - val_loss: 0.0809 - val_accuracy: 0.9675\n",
            "Epoch 15/50\n",
            "721/721 [==============================] - 52s 72ms/step - loss: 0.0281 - accuracy: 0.9891 - val_loss: 0.0611 - val_accuracy: 0.9750\n",
            "Epoch 16/50\n",
            "721/721 [==============================] - 52s 72ms/step - loss: 0.0075 - accuracy: 0.9997 - val_loss: 0.1003 - val_accuracy: 0.9625\n",
            "Epoch 17/50\n",
            "721/721 [==============================] - 52s 72ms/step - loss: 0.0245 - accuracy: 0.9923 - val_loss: 0.1004 - val_accuracy: 0.9600\n",
            "Epoch 18/50\n",
            "721/721 [==============================] - 52s 72ms/step - loss: 0.0107 - accuracy: 0.9968 - val_loss: 0.0567 - val_accuracy: 0.9775\n",
            "Epoch 19/50\n",
            "721/721 [==============================] - 52s 72ms/step - loss: 0.0027 - accuracy: 0.9995 - val_loss: 0.0542 - val_accuracy: 0.9750\n",
            "Epoch 20/50\n",
            "721/721 [==============================] - 52s 72ms/step - loss: 5.3222e-04 - accuracy: 1.0000 - val_loss: 0.0512 - val_accuracy: 0.9825\n",
            "Epoch 21/50\n",
            "721/721 [==============================] - 52s 72ms/step - loss: 3.2176e-04 - accuracy: 1.0000 - val_loss: 0.0509 - val_accuracy: 0.9825\n",
            "Epoch 22/50\n",
            "721/721 [==============================] - 52s 72ms/step - loss: 2.8227e-04 - accuracy: 1.0000 - val_loss: 0.0541 - val_accuracy: 0.9800\n",
            "Epoch 23/50\n",
            "721/721 [==============================] - 52s 72ms/step - loss: 2.1592e-04 - accuracy: 1.0000 - val_loss: 0.0568 - val_accuracy: 0.9800\n",
            "Epoch 24/50\n",
            "721/721 [==============================] - 52s 72ms/step - loss: 1.5817e-04 - accuracy: 1.0000 - val_loss: 0.0571 - val_accuracy: 0.9800\n",
            "Epoch 25/50\n",
            "721/721 [==============================] - 52s 72ms/step - loss: 1.6140e-04 - accuracy: 1.0000 - val_loss: 0.0572 - val_accuracy: 0.9800\n",
            "Epoch 26/50\n",
            "721/721 [==============================] - 52s 72ms/step - loss: 1.5675e-04 - accuracy: 1.0000 - val_loss: 0.0581 - val_accuracy: 0.9800\n",
            "Epoch 27/50\n",
            "721/721 [==============================] - 52s 72ms/step - loss: 1.1215e-04 - accuracy: 1.0000 - val_loss: 0.0581 - val_accuracy: 0.9800\n",
            "Epoch 28/50\n",
            "721/721 [==============================] - 52s 72ms/step - loss: 1.1228e-04 - accuracy: 1.0000 - val_loss: 0.0590 - val_accuracy: 0.9800\n",
            "Epoch 29/50\n",
            "721/721 [==============================] - 52s 72ms/step - loss: 1.0454e-04 - accuracy: 1.0000 - val_loss: 0.0595 - val_accuracy: 0.9800\n",
            "Epoch 30/50\n",
            "721/721 [==============================] - 52s 72ms/step - loss: 9.1386e-05 - accuracy: 1.0000 - val_loss: 0.0606 - val_accuracy: 0.9800\n",
            "Epoch 31/50\n",
            "721/721 [==============================] - 52s 72ms/step - loss: 8.1524e-05 - accuracy: 1.0000 - val_loss: 0.0614 - val_accuracy: 0.9800\n",
            "Epoch 32/50\n",
            "721/721 [==============================] - 52s 72ms/step - loss: 7.5343e-05 - accuracy: 1.0000 - val_loss: 0.0618 - val_accuracy: 0.9800\n",
            "Epoch 33/50\n",
            "721/721 [==============================] - 52s 72ms/step - loss: 8.2322e-05 - accuracy: 1.0000 - val_loss: 0.0621 - val_accuracy: 0.9800\n",
            "Epoch 34/50\n",
            "721/721 [==============================] - 52s 72ms/step - loss: 6.8017e-05 - accuracy: 1.0000 - val_loss: 0.0628 - val_accuracy: 0.9800\n",
            "Epoch 35/50\n",
            "721/721 [==============================] - 52s 72ms/step - loss: 5.8969e-05 - accuracy: 1.0000 - val_loss: 0.0635 - val_accuracy: 0.9800\n",
            "Epoch 36/50\n",
            "721/721 [==============================] - 52s 72ms/step - loss: 6.4996e-05 - accuracy: 1.0000 - val_loss: 0.0641 - val_accuracy: 0.9800\n",
            "Epoch 37/50\n",
            "721/721 [==============================] - 52s 72ms/step - loss: 5.5499e-05 - accuracy: 1.0000 - val_loss: 0.0646 - val_accuracy: 0.9800\n",
            "Epoch 38/50\n",
            "721/721 [==============================] - 52s 72ms/step - loss: 5.8211e-05 - accuracy: 1.0000 - val_loss: 0.0647 - val_accuracy: 0.9800\n",
            "Epoch 39/50\n",
            "721/721 [==============================] - 52s 72ms/step - loss: 5.2590e-05 - accuracy: 1.0000 - val_loss: 0.0653 - val_accuracy: 0.9800\n",
            "Epoch 40/50\n",
            "721/721 [==============================] - 52s 72ms/step - loss: 4.5410e-05 - accuracy: 1.0000 - val_loss: 0.0658 - val_accuracy: 0.9800\n",
            "Epoch 41/50\n",
            "721/721 [==============================] - 52s 72ms/step - loss: 5.2687e-05 - accuracy: 1.0000 - val_loss: 0.0662 - val_accuracy: 0.9800\n",
            "Epoch 42/50\n",
            "721/721 [==============================] - 52s 72ms/step - loss: 4.5633e-05 - accuracy: 1.0000 - val_loss: 0.0666 - val_accuracy: 0.9800\n",
            "Epoch 43/50\n",
            "721/721 [==============================] - 52s 72ms/step - loss: 3.9194e-05 - accuracy: 1.0000 - val_loss: 0.0670 - val_accuracy: 0.9800\n",
            "Epoch 44/50\n",
            "721/721 [==============================] - 52s 72ms/step - loss: 3.8609e-05 - accuracy: 1.0000 - val_loss: 0.0675 - val_accuracy: 0.9800\n",
            "Epoch 45/50\n",
            "721/721 [==============================] - 52s 72ms/step - loss: 4.0283e-05 - accuracy: 1.0000 - val_loss: 0.0678 - val_accuracy: 0.9800\n",
            "Epoch 46/50\n",
            "721/721 [==============================] - 52s 72ms/step - loss: 3.8002e-05 - accuracy: 1.0000 - val_loss: 0.0681 - val_accuracy: 0.9800\n",
            "Epoch 47/50\n",
            "721/721 [==============================] - 52s 72ms/step - loss: 3.5003e-05 - accuracy: 1.0000 - val_loss: 0.0685 - val_accuracy: 0.9775\n",
            "Epoch 48/50\n",
            "721/721 [==============================] - 52s 72ms/step - loss: 4.0093e-05 - accuracy: 1.0000 - val_loss: 0.0689 - val_accuracy: 0.9775\n",
            "Epoch 49/50\n",
            "721/721 [==============================] - 52s 72ms/step - loss: 3.3557e-05 - accuracy: 1.0000 - val_loss: 0.0693 - val_accuracy: 0.9775\n",
            "Epoch 50/50\n",
            "721/721 [==============================] - 52s 72ms/step - loss: 2.9809e-05 - accuracy: 1.0000 - val_loss: 0.0697 - val_accuracy: 0.9775\n"
          ],
          "name": "stdout"
        },
        {
          "output_type": "execute_result",
          "data": {
            "text/plain": [
              "<tensorflow.python.keras.callbacks.History at 0x7f2c5c506d50>"
            ]
          },
          "metadata": {
            "tags": []
          },
          "execution_count": 9
        }
      ]
    },
    {
      "cell_type": "code",
      "metadata": {
        "id": "Xat9kcxLIYBU"
      },
      "source": [
        "cnn.save('/content/drive/MyDrive/NPY files/hockey/save/hockey cnn softmax.h5', overwrite=True, include_optimizer=True, save_format=None,\n",
        "    signatures=None, options=None, save_traces=True)"
      ],
      "execution_count": null,
      "outputs": []
    },
    {
      "cell_type": "markdown",
      "metadata": {
        "id": "3GrLlcU4SZi5"
      },
      "source": [
        "**movie dataset full evaluate**"
      ]
    },
    {
      "cell_type": "code",
      "metadata": {
        "colab": {
          "base_uri": "https://localhost:8080/"
        },
        "id": "iBYP1emZSreD",
        "outputId": "36f38d8a-ae47-40f1-a315-a348a676e25a"
      },
      "source": [
        "dataM= np.load('/content/drive/MyDrive/NPY files/movie/movieset.npy', allow_pickle=True)\n",
        "len(dataM)"
      ],
      "execution_count": null,
      "outputs": [
        {
          "output_type": "execute_result",
          "data": {
            "text/plain": [
              "964"
            ]
          },
          "metadata": {
            "tags": []
          },
          "execution_count": 11
        }
      ]
    },
    {
      "cell_type": "code",
      "metadata": {
        "id": "cI_Ef28gZQgl"
      },
      "source": [
        "test = dataM[:]"
      ],
      "execution_count": null,
      "outputs": []
    },
    {
      "cell_type": "code",
      "metadata": {
        "colab": {
          "base_uri": "https://localhost:8080/"
        },
        "id": "RItHhH5VZTa9",
        "outputId": "2def30e4-bf09-4b20-86f3-32419ab7c275"
      },
      "source": [
        "len(test)"
      ],
      "execution_count": null,
      "outputs": [
        {
          "output_type": "execute_result",
          "data": {
            "text/plain": [
              "964"
            ]
          },
          "metadata": {
            "tags": []
          },
          "execution_count": 13
        }
      ]
    },
    {
      "cell_type": "code",
      "metadata": {
        "id": "lpWiGtq4ZUtt"
      },
      "source": [
        "x_valid = np.array([i[0] for i in test]).reshape(-1, 10, IMG_SIZE, IMG_SIZE, 3)\n",
        "y_valid = np.array([i[1] for i in test])"
      ],
      "execution_count": null,
      "outputs": []
    },
    {
      "cell_type": "code",
      "metadata": {
        "id": "5HQj5KSVZYgJ"
      },
      "source": [
        "\n",
        "x_valid = x_valid.astype('float32')/255\n"
      ],
      "execution_count": null,
      "outputs": []
    },
    {
      "cell_type": "code",
      "metadata": {
        "colab": {
          "base_uri": "https://localhost:8080/"
        },
        "id": "qg9aoijRZjAc",
        "outputId": "3bc60760-bc31-4e89-b983-284100b0c25a"
      },
      "source": [
        "print(y_valid.shape)\n",
        "print(x_valid.shape)\n",
        "\n",
        "print(y_valid[0])"
      ],
      "execution_count": null,
      "outputs": [
        {
          "output_type": "stream",
          "text": [
            "(964, 2)\n",
            "(964, 10, 100, 100, 3)\n",
            "[1 0]\n"
          ],
          "name": "stdout"
        }
      ]
    },
    {
      "cell_type": "code",
      "metadata": {
        "colab": {
          "base_uri": "https://localhost:8080/"
        },
        "id": "E7h_HwEqZkXn",
        "outputId": "194d987a-6a54-4064-b716-b0ee88c2d33a"
      },
      "source": [
        "cnn.evaluate(x=x_valid, y=y_valid, batch_size=5, verbose=1)"
      ],
      "execution_count": null,
      "outputs": [
        {
          "output_type": "stream",
          "text": [
            "193/193 [==============================] - 7s 32ms/step - loss: 4.4876 - accuracy: 0.4710\n"
          ],
          "name": "stdout"
        },
        {
          "output_type": "execute_result",
          "data": {
            "text/plain": [
              "[4.487590312957764, 0.47095435857772827]"
            ]
          },
          "metadata": {
            "tags": []
          },
          "execution_count": 17
        }
      ]
    },
    {
      "cell_type": "markdown",
      "metadata": {
        "id": "1JZW1ZJ9Zt2e"
      },
      "source": [
        "**movie dataset 50 evaluate**"
      ]
    },
    {
      "cell_type": "code",
      "metadata": {
        "colab": {
          "base_uri": "https://localhost:8080/"
        },
        "id": "yWKQYP3WZ5Bd",
        "outputId": "6f98230b-d3bd-4ef0-a516-4de2c7916e72"
      },
      "source": [
        "dataM= np.load('/content/drive/MyDrive/NPY files/movie/movieset50.npy', allow_pickle=True)\n",
        "len(dataM)"
      ],
      "execution_count": null,
      "outputs": [
        {
          "output_type": "execute_result",
          "data": {
            "text/plain": [
              "481"
            ]
          },
          "metadata": {
            "tags": []
          },
          "execution_count": 18
        }
      ]
    },
    {
      "cell_type": "code",
      "metadata": {
        "colab": {
          "base_uri": "https://localhost:8080/"
        },
        "id": "X0_NcF_WaK_y",
        "outputId": "53b9892d-2d69-420c-e975-b02f26a89109"
      },
      "source": [
        "test = dataM[:]\n",
        "len(test)"
      ],
      "execution_count": null,
      "outputs": [
        {
          "output_type": "execute_result",
          "data": {
            "text/plain": [
              "481"
            ]
          },
          "metadata": {
            "tags": []
          },
          "execution_count": 19
        }
      ]
    },
    {
      "cell_type": "code",
      "metadata": {
        "id": "xL0FsWJhbqMi"
      },
      "source": [
        "x_valid = np.array([i[0] for i in test]).reshape(-1, 10, IMG_SIZE, IMG_SIZE, 3)\n",
        "y_valid = np.array([i[1] for i in test])"
      ],
      "execution_count": null,
      "outputs": []
    },
    {
      "cell_type": "code",
      "metadata": {
        "id": "gjWuyHD8bv7K"
      },
      "source": [
        "x_valid = x_valid.astype('float32')/255"
      ],
      "execution_count": null,
      "outputs": []
    },
    {
      "cell_type": "code",
      "metadata": {
        "colab": {
          "base_uri": "https://localhost:8080/"
        },
        "id": "h2cCFCoBb06f",
        "outputId": "3c657d5f-d318-46d0-b5c6-686839660d0b"
      },
      "source": [
        "print(y_valid.shape)\n",
        "print(x_valid.shape)\n",
        "\n",
        "print(y_valid[0])"
      ],
      "execution_count": null,
      "outputs": [
        {
          "output_type": "stream",
          "text": [
            "(481, 2)\n",
            "(481, 10, 100, 100, 3)\n",
            "[1 0]\n"
          ],
          "name": "stdout"
        }
      ]
    },
    {
      "cell_type": "code",
      "metadata": {
        "colab": {
          "base_uri": "https://localhost:8080/"
        },
        "id": "0K3k7tXwb6ey",
        "outputId": "211b3215-bc0b-40e1-9ec0-d333604d1ccd"
      },
      "source": [
        "cnn.evaluate(x=x_valid, y=y_valid, batch_size=5, verbose=1)"
      ],
      "execution_count": null,
      "outputs": [
        {
          "output_type": "stream",
          "text": [
            "97/97 [==============================] - 3s 32ms/step - loss: 3.8403 - accuracy: 0.5260\n"
          ],
          "name": "stdout"
        },
        {
          "output_type": "execute_result",
          "data": {
            "text/plain": [
              "[3.8402621746063232, 0.5259875059127808]"
            ]
          },
          "metadata": {
            "tags": []
          },
          "execution_count": 23
        }
      ]
    },
    {
      "cell_type": "code",
      "metadata": {
        "id": "-MkcViPccBIp"
      },
      "source": [
        ""
      ],
      "execution_count": null,
      "outputs": []
    },
    {
      "cell_type": "markdown",
      "metadata": {
        "id": "A-My29mmcI15"
      },
      "source": [
        ""
      ]
    },
    {
      "cell_type": "markdown",
      "metadata": {
        "id": "CKwLMmKgcI4x"
      },
      "source": [
        "**Raw dataset full(train) evaluate**"
      ]
    },
    {
      "cell_type": "code",
      "metadata": {
        "colab": {
          "base_uri": "https://localhost:8080/"
        },
        "id": "Tb7w3DsuoV2x",
        "outputId": "87588302-0606-4609-c6e9-d30b83a7c6c6"
      },
      "source": [
        "import tensorflow as tf\n",
        "from keras.models import load_model\n",
        "cnn= load_model('/content/drive/MyDrive/NPY files/hockey/save/hockey cnn softmax.h5')\n",
        "cnn.summary()"
      ],
      "execution_count": null,
      "outputs": [
        {
          "output_type": "stream",
          "text": [
            "Model: \"sequential\"\n",
            "_________________________________________________________________\n",
            "Layer (type)                 Output Shape              Param #   \n",
            "=================================================================\n",
            "conv2d (Conv2D)              (None, 10, 100, 100, 64)  1792      \n",
            "_________________________________________________________________\n",
            "conv2d_1 (Conv2D)            (None, 10, 98, 98, 64)    36928     \n",
            "_________________________________________________________________\n",
            "max_pooling3d (MaxPooling3D) (None, 10, 49, 49, 64)    0         \n",
            "_________________________________________________________________\n",
            "conv2d_2 (Conv2D)            (None, 10, 47, 47, 64)    36928     \n",
            "_________________________________________________________________\n",
            "max_pooling3d_1 (MaxPooling3 (None, 10, 23, 23, 64)    0         \n",
            "_________________________________________________________________\n",
            "conv2d_3 (Conv2D)            (None, 10, 21, 21, 64)    36928     \n",
            "_________________________________________________________________\n",
            "max_pooling3d_2 (MaxPooling3 (None, 10, 10, 10, 64)    0         \n",
            "_________________________________________________________________\n",
            "reshape (Reshape)            (None, 10, 6400)          0         \n",
            "_________________________________________________________________\n",
            "bidirectional_1 (Bidirection (None, 64)                1646848   \n",
            "_________________________________________________________________\n",
            "dense_3 (Dense)              (None, 64)                4160      \n",
            "_________________________________________________________________\n",
            "dense_4 (Dense)              (None, 32)                2080      \n",
            "_________________________________________________________________\n",
            "dense_5 (Dense)              (None, 2)                 66        \n",
            "=================================================================\n",
            "Total params: 1,765,730\n",
            "Trainable params: 1,765,730\n",
            "Non-trainable params: 0\n",
            "_________________________________________________________________\n"
          ],
          "name": "stdout"
        }
      ]
    },
    {
      "cell_type": "code",
      "metadata": {
        "colab": {
          "base_uri": "https://localhost:8080/"
        },
        "id": "qb43RnPIoQ8p",
        "outputId": "c58c6513-b791-47b0-f45f-6f963169bc7a"
      },
      "source": [
        "import numpy as np\n",
        "\n",
        "dataR= np.load('/content/drive/MyDrive/NPY files/Raw/Train/trainset.npy', allow_pickle=True)\n",
        "len(dataR)"
      ],
      "execution_count": null,
      "outputs": [
        {
          "output_type": "execute_result",
          "data": {
            "text/plain": [
              "2342"
            ]
          },
          "metadata": {
            "tags": []
          },
          "execution_count": 3
        }
      ]
    },
    {
      "cell_type": "code",
      "metadata": {
        "colab": {
          "base_uri": "https://localhost:8080/"
        },
        "id": "3kRJ86xdqzbd",
        "outputId": "600e75f8-3275-49d7-cbc3-038812b20cd7"
      },
      "source": [
        "test = dataR[:]\n",
        "len(test)"
      ],
      "execution_count": null,
      "outputs": [
        {
          "output_type": "execute_result",
          "data": {
            "text/plain": [
              "2342"
            ]
          },
          "metadata": {
            "tags": []
          },
          "execution_count": 4
        }
      ]
    },
    {
      "cell_type": "code",
      "metadata": {
        "id": "C4-QTlmEq7xX"
      },
      "source": [
        "IMG_SIZE= 100\n",
        "x_valid = np.array([i[0] for i in test]).reshape(-1, 10, IMG_SIZE, IMG_SIZE, 3)\n",
        "y_valid = np.array([i[1] for i in test])"
      ],
      "execution_count": null,
      "outputs": []
    },
    {
      "cell_type": "code",
      "metadata": {
        "id": "NpzZhwpOq_EF"
      },
      "source": [
        "x_valid = x_valid.astype('float32')/255"
      ],
      "execution_count": null,
      "outputs": []
    },
    {
      "cell_type": "code",
      "metadata": {
        "colab": {
          "base_uri": "https://localhost:8080/"
        },
        "id": "FbITLxP0rB3I",
        "outputId": "895dd1de-efb8-4c4a-cf44-c4bbcaae2945"
      },
      "source": [
        "print(y_valid.shape)\n",
        "print(x_valid.shape)\n",
        "\n",
        "print(y_valid[0])"
      ],
      "execution_count": null,
      "outputs": [
        {
          "output_type": "stream",
          "text": [
            "(2342, 2)\n",
            "(2342, 10, 100, 100, 3)\n",
            "[0 1]\n"
          ],
          "name": "stdout"
        }
      ]
    },
    {
      "cell_type": "code",
      "metadata": {
        "colab": {
          "base_uri": "https://localhost:8080/"
        },
        "id": "zBeSQnzcrFGY",
        "outputId": "8ce69cac-b4ac-4111-8d7e-ea7441aab089"
      },
      "source": [
        "cnn.evaluate(x=x_valid, y=y_valid, batch_size=5, verbose=1)"
      ],
      "execution_count": null,
      "outputs": [
        {
          "output_type": "stream",
          "text": [
            "469/469 [==============================] - 56s 57ms/step - loss: 6.5789 - accuracy: 0.3659\n"
          ],
          "name": "stdout"
        },
        {
          "output_type": "execute_result",
          "data": {
            "text/plain": [
              "[6.5789337158203125, 0.3659265637397766]"
            ]
          },
          "metadata": {
            "tags": []
          },
          "execution_count": 9
        }
      ]
    },
    {
      "cell_type": "markdown",
      "metadata": {
        "id": "LJp7AhxdrJsP"
      },
      "source": [
        "**Raw dataset 50(train) evaluate**"
      ]
    },
    {
      "cell_type": "code",
      "metadata": {
        "colab": {
          "base_uri": "https://localhost:8080/"
        },
        "id": "uEBW2sh-rPeb",
        "outputId": "61778092-80f7-4d6c-fdec-8dd329972dce"
      },
      "source": [
        "dataR= np.load('/content/drive/MyDrive/NPY files/Raw/Train/trainset50.npy', allow_pickle=True)\n",
        "len(dataR)"
      ],
      "execution_count": null,
      "outputs": [
        {
          "output_type": "execute_result",
          "data": {
            "text/plain": [
              "1170"
            ]
          },
          "metadata": {
            "tags": []
          },
          "execution_count": 10
        }
      ]
    },
    {
      "cell_type": "code",
      "metadata": {
        "colab": {
          "base_uri": "https://localhost:8080/"
        },
        "id": "ONQnJ820rYtd",
        "outputId": "f3fcc09b-a312-40ea-cd04-8433b10dd4cc"
      },
      "source": [
        "test = dataR[:]\n",
        "len(test)"
      ],
      "execution_count": null,
      "outputs": [
        {
          "output_type": "execute_result",
          "data": {
            "text/plain": [
              "1170"
            ]
          },
          "metadata": {
            "tags": []
          },
          "execution_count": 11
        }
      ]
    },
    {
      "cell_type": "code",
      "metadata": {
        "id": "Z3aUWl_2rfg8"
      },
      "source": [
        "x_valid = np.array([i[0] for i in test]).reshape(-1, 10, IMG_SIZE, IMG_SIZE, 3)\n",
        "y_valid = np.array([i[1] for i in test])"
      ],
      "execution_count": null,
      "outputs": []
    },
    {
      "cell_type": "code",
      "metadata": {
        "id": "teGbyy76rjPr"
      },
      "source": [
        "x_valid = x_valid.astype('float32')/255"
      ],
      "execution_count": null,
      "outputs": []
    },
    {
      "cell_type": "code",
      "metadata": {
        "colab": {
          "base_uri": "https://localhost:8080/"
        },
        "id": "HRu6N-v5rmAw",
        "outputId": "d80be1bc-9db9-41c8-f3a5-de34d7b68c3e"
      },
      "source": [
        "print(y_valid.shape)\n",
        "print(x_valid.shape)\n",
        "\n",
        "print(y_valid[0])"
      ],
      "execution_count": null,
      "outputs": [
        {
          "output_type": "stream",
          "text": [
            "(1170, 2)\n",
            "(1170, 10, 100, 100, 3)\n",
            "[1 0]\n"
          ],
          "name": "stdout"
        }
      ]
    },
    {
      "cell_type": "code",
      "metadata": {
        "colab": {
          "base_uri": "https://localhost:8080/"
        },
        "id": "1U4WKmwWroWC",
        "outputId": "abde1b26-8cbe-48b5-e591-c70bfe380562"
      },
      "source": [
        "cnn.evaluate(x=x_valid, y=y_valid, batch_size=5, verbose=1)"
      ],
      "execution_count": null,
      "outputs": [
        {
          "output_type": "stream",
          "text": [
            "234/234 [==============================] - 13s 53ms/step - loss: 5.0385 - accuracy: 0.4897\n"
          ],
          "name": "stdout"
        },
        {
          "output_type": "execute_result",
          "data": {
            "text/plain": [
              "[5.0385050773620605, 0.48974359035491943]"
            ]
          },
          "metadata": {
            "tags": []
          },
          "execution_count": 15
        }
      ]
    }
  ]
}